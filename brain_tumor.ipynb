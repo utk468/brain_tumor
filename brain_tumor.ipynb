{
  "metadata": {
    "kernelspec": {
      "language": "python",
      "display_name": "Python 3",
      "name": "python3"
    },
    "language_info": {
      "name": "python",
      "version": "3.10.12",
      "mimetype": "text/x-python",
      "codemirror_mode": {
        "name": "ipython",
        "version": 3
      },
      "pygments_lexer": "ipython3",
      "nbconvert_exporter": "python",
      "file_extension": ".py"
    },
    "kaggle": {
      "accelerator": "nvidiaTeslaT4",
      "dataSources": [
        {
          "sourceId": 1183165,
          "sourceType": "datasetVersion",
          "datasetId": 672377
        }
      ],
      "dockerImageVersionId": 30823,
      "isInternetEnabled": true,
      "language": "python",
      "sourceType": "notebook",
      "isGpuEnabled": true
    },
    "colab": {
      "name": "brain_tumor",
      "provenance": [],
      "include_colab_link": true
    }
  },
  "nbformat_minor": 0,
  "nbformat": 4,
  "cells": [
    {
      "cell_type": "markdown",
      "metadata": {
        "id": "view-in-github",
        "colab_type": "text"
      },
      "source": [
        "<a href=\"https://colab.research.google.com/github/utk468/brain_tumor/blob/main/brain_tumor.ipynb\" target=\"_parent\"><img src=\"https://colab.research.google.com/assets/colab-badge.svg\" alt=\"Open In Colab\"/></a>"
      ]
    },
    {
      "source": [
        "\n",
        "import kagglehub\n",
        "sartajbhuvaji_brain_tumor_classification_mri_path = kagglehub.dataset_download('sartajbhuvaji/brain-tumor-classification-mri')\n",
        "\n",
        "print('Data source import complete.')\n"
      ],
      "metadata": {
        "id": "x1EeOi3ffIfy"
      },
      "cell_type": "code",
      "outputs": [],
      "execution_count": null
    },
    {
      "cell_type": "code",
      "source": [
        "import kagglehub\n",
        "\n",
        "\n",
        "path = kagglehub.dataset_download(\"sartajbhuvaji/brain-tumor-classification-mri\")\n",
        "\n",
        "print(\"Path to dataset files:\", path)"
      ],
      "metadata": {
        "_uuid": "8f2839f25d086af736a60e9eeb907d3b93b6e0e5",
        "_cell_guid": "b1076dfc-b9ad-4769-8c92-a6c4dae69d19",
        "trusted": true,
        "execution": {
          "iopub.status.busy": "2024-12-31T20:23:51.287581Z",
          "iopub.execute_input": "2024-12-31T20:23:51.287875Z",
          "iopub.status.idle": "2024-12-31T20:23:51.976387Z",
          "shell.execute_reply.started": "2024-12-31T20:23:51.287851Z",
          "shell.execute_reply": "2024-12-31T20:23:51.97559Z"
        },
        "id": "ksFr8AopfIfz",
        "outputId": "6c0bb17c-f771-4cc5-ccb3-b206318be4d1"
      },
      "outputs": [
        {
          "name": "stdout",
          "text": "Path to dataset files: /kaggle/input/brain-tumor-classification-mri\n",
          "output_type": "stream"
        }
      ],
      "execution_count": null
    },
    {
      "cell_type": "code",
      "source": [
        "from tensorflow.keras.preprocessing.image import ImageDataGenerator\n",
        "from tensorflow.keras.models import Sequential\n",
        "from tensorflow.keras.layers import Dense, Dropout, GlobalAveragePooling2D, BatchNormalization\n",
        "from tensorflow.keras.optimizers import Adam\n",
        "from tensorflow.keras.callbacks import EarlyStopping, ReduceLROnPlateau\n",
        "from tensorflow.keras.applications import MobileNetV2\n",
        "from tensorflow.keras.regularizers import l2"
      ],
      "metadata": {
        "trusted": true,
        "execution": {
          "iopub.status.busy": "2024-12-31T20:42:59.019989Z",
          "iopub.execute_input": "2024-12-31T20:42:59.020308Z",
          "iopub.status.idle": "2024-12-31T20:42:59.024514Z",
          "shell.execute_reply.started": "2024-12-31T20:42:59.020283Z",
          "shell.execute_reply": "2024-12-31T20:42:59.023637Z"
        },
        "id": "MqZrNo5SfIf2"
      },
      "outputs": [],
      "execution_count": null
    },
    {
      "cell_type": "code",
      "source": [
        "train_dir = \"/kaggle/input/brain-tumor-classification-mri/Training\"\n",
        "test_dir = \"/kaggle/input/brain-tumor-classification-mri/Testing\""
      ],
      "metadata": {
        "trusted": true,
        "execution": {
          "iopub.status.busy": "2024-12-31T20:43:02.295275Z",
          "iopub.execute_input": "2024-12-31T20:43:02.295589Z",
          "iopub.status.idle": "2024-12-31T20:43:02.299315Z",
          "shell.execute_reply.started": "2024-12-31T20:43:02.29556Z",
          "shell.execute_reply": "2024-12-31T20:43:02.298535Z"
        },
        "id": "s_2PMkyufIf4"
      },
      "outputs": [],
      "execution_count": null
    },
    {
      "cell_type": "code",
      "source": [
        "train_datagen = ImageDataGenerator(\n",
        "    rescale=1.0 / 255,\n",
        "    rotation_range=20,\n",
        "    width_shift_range=0.2,\n",
        "    height_shift_range=0.2,\n",
        "    shear_range=0.2,\n",
        "    zoom_range=0.2,\n",
        "    horizontal_flip=True,\n",
        ")\n",
        "test_datagen = ImageDataGenerator(\n",
        "    rescale=1.0 / 255\n",
        ")"
      ],
      "metadata": {
        "trusted": true,
        "execution": {
          "iopub.status.busy": "2024-12-31T20:43:05.895171Z",
          "iopub.execute_input": "2024-12-31T20:43:05.895458Z",
          "iopub.status.idle": "2024-12-31T20:43:05.899605Z",
          "shell.execute_reply.started": "2024-12-31T20:43:05.895436Z",
          "shell.execute_reply": "2024-12-31T20:43:05.898728Z"
        },
        "id": "iBRbWp_bfIf6"
      },
      "outputs": [],
      "execution_count": null
    },
    {
      "cell_type": "code",
      "source": [
        "train_generator = train_datagen.flow_from_directory(\n",
        "    train_dir,\n",
        "    target_size=(224, 224),\n",
        "    batch_size=32,\n",
        "    class_mode=\"categorical\"\n",
        ")\n",
        "\n",
        "\n",
        "test_generator = test_datagen.flow_from_directory(\n",
        "    test_dir,\n",
        "    target_size=(224, 224),\n",
        "    batch_size=32,\n",
        "    class_mode=\"categorical\"\n",
        ")"
      ],
      "metadata": {
        "trusted": true,
        "execution": {
          "iopub.status.busy": "2024-12-31T20:43:16.616655Z",
          "iopub.execute_input": "2024-12-31T20:43:16.616992Z",
          "iopub.status.idle": "2024-12-31T20:43:16.753042Z",
          "shell.execute_reply.started": "2024-12-31T20:43:16.616963Z",
          "shell.execute_reply": "2024-12-31T20:43:16.752226Z"
        },
        "id": "FMSywlLDfIf6",
        "outputId": "1e8a70f5-f935-4b21-aec1-7f2faeab9f4b"
      },
      "outputs": [
        {
          "name": "stdout",
          "text": "Found 2870 images belonging to 4 classes.\nFound 394 images belonging to 4 classes.\n",
          "output_type": "stream"
        }
      ],
      "execution_count": null
    },
    {
      "cell_type": "code",
      "source": [
        "base_model = MobileNetV2(weights='imagenet', include_top=False, input_shape=(224, 224, 3))"
      ],
      "metadata": {
        "trusted": true,
        "execution": {
          "iopub.status.busy": "2024-12-31T20:43:19.78748Z",
          "iopub.execute_input": "2024-12-31T20:43:19.787841Z",
          "iopub.status.idle": "2024-12-31T20:43:20.425913Z",
          "shell.execute_reply.started": "2024-12-31T20:43:19.787802Z",
          "shell.execute_reply": "2024-12-31T20:43:20.425266Z"
        },
        "id": "b-B_KeTyfIf7"
      },
      "outputs": [],
      "execution_count": null
    },
    {
      "cell_type": "code",
      "source": [
        "base_model.trainable = False"
      ],
      "metadata": {
        "trusted": true,
        "execution": {
          "iopub.status.busy": "2024-12-31T20:43:25.175245Z",
          "iopub.execute_input": "2024-12-31T20:43:25.175537Z",
          "iopub.status.idle": "2024-12-31T20:43:25.18113Z",
          "shell.execute_reply.started": "2024-12-31T20:43:25.175513Z",
          "shell.execute_reply": "2024-12-31T20:43:25.180097Z"
        },
        "id": "ARdgD_PEfIf8"
      },
      "outputs": [],
      "execution_count": null
    },
    {
      "cell_type": "code",
      "source": [
        "\n",
        "model = Sequential([\n",
        "    base_model,\n",
        "    GlobalAveragePooling2D(),\n",
        "    Dense(128, activation='relu', kernel_regularizer=l2(0.01)),\n",
        "    BatchNormalization(),\n",
        "    Dropout(0.5),\n",
        "    Dense(4, activation='softmax')\n",
        "])"
      ],
      "metadata": {
        "trusted": true,
        "execution": {
          "iopub.status.busy": "2024-12-31T20:43:28.587405Z",
          "iopub.execute_input": "2024-12-31T20:43:28.587727Z",
          "iopub.status.idle": "2024-12-31T20:43:28.59754Z",
          "shell.execute_reply.started": "2024-12-31T20:43:28.587699Z",
          "shell.execute_reply": "2024-12-31T20:43:28.596798Z"
        },
        "id": "ovDaMbM4fIf9"
      },
      "outputs": [],
      "execution_count": null
    },
    {
      "cell_type": "code",
      "source": [
        "model.compile(\n",
        "    optimizer=Adam(learning_rate=0.0001),\n",
        "    loss='categorical_crossentropy',\n",
        "    metrics=['accuracy']\n",
        ")"
      ],
      "metadata": {
        "trusted": true,
        "execution": {
          "iopub.status.busy": "2024-12-31T20:43:30.694053Z",
          "iopub.execute_input": "2024-12-31T20:43:30.694328Z",
          "iopub.status.idle": "2024-12-31T20:43:30.702062Z",
          "shell.execute_reply.started": "2024-12-31T20:43:30.694308Z",
          "shell.execute_reply": "2024-12-31T20:43:30.701368Z"
        },
        "id": "8l2A7rakfIf-"
      },
      "outputs": [],
      "execution_count": null
    },
    {
      "cell_type": "code",
      "source": [
        "\n",
        "early_stopping = EarlyStopping(\n",
        "    monitor='val_loss',\n",
        "    patience=5,\n",
        "    restore_best_weights=True\n",
        ")"
      ],
      "metadata": {
        "trusted": true,
        "execution": {
          "iopub.status.busy": "2024-12-31T20:43:33.814084Z",
          "iopub.execute_input": "2024-12-31T20:43:33.814368Z",
          "iopub.status.idle": "2024-12-31T20:43:33.818133Z",
          "shell.execute_reply.started": "2024-12-31T20:43:33.814346Z",
          "shell.execute_reply": "2024-12-31T20:43:33.817281Z"
        },
        "id": "G9r__F18fIf-"
      },
      "outputs": [],
      "execution_count": null
    },
    {
      "cell_type": "code",
      "source": [
        "lr_scheduler = ReduceLROnPlateau(\n",
        "    monitor='val_loss',\n",
        "    factor=0.5,\n",
        "    patience=3,\n",
        "    min_lr=1e-7\n",
        ")\n"
      ],
      "metadata": {
        "trusted": true,
        "execution": {
          "iopub.status.busy": "2024-12-31T20:43:36.534108Z",
          "iopub.execute_input": "2024-12-31T20:43:36.53439Z",
          "iopub.status.idle": "2024-12-31T20:43:36.538002Z",
          "shell.execute_reply.started": "2024-12-31T20:43:36.534368Z",
          "shell.execute_reply": "2024-12-31T20:43:36.537157Z"
        },
        "id": "FpW74gFffIf-"
      },
      "outputs": [],
      "execution_count": null
    },
    {
      "cell_type": "code",
      "source": [
        "history = model.fit(\n",
        "    train_generator,\n",
        "    epochs=10,\n",
        "    validation_data=test_generator,\n",
        "    callbacks=[early_stopping, lr_scheduler]\n",
        ")\n",
        "\n",
        "\n",
        "loss, accuracy = model.evaluate(test_generator)\n",
        "print(f\"Test Accuracy: {accuracy:.2f}\")"
      ],
      "metadata": {
        "trusted": true,
        "execution": {
          "iopub.status.busy": "2024-12-31T20:43:40.595436Z",
          "iopub.execute_input": "2024-12-31T20:43:40.595722Z",
          "iopub.status.idle": "2024-12-31T20:49:24.862742Z",
          "shell.execute_reply.started": "2024-12-31T20:43:40.5957Z",
          "shell.execute_reply": "2024-12-31T20:49:24.86205Z"
        },
        "id": "huxbmVCAfIf-",
        "outputId": "348acc01-9c5e-4212-ff26-da191ad06906"
      },
      "outputs": [
        {
          "name": "stdout",
          "text": "Epoch 1/10\n\u001b[1m90/90\u001b[0m \u001b[32m━━━━━━━━━━━━━━━━━━━━\u001b[0m\u001b[37m\u001b[0m \u001b[1m45s\u001b[0m 400ms/step - accuracy: 0.4268 - loss: 3.9087 - val_accuracy: 0.4391 - val_loss: 3.7562 - learning_rate: 1.0000e-04\nEpoch 2/10\n\u001b[1m90/90\u001b[0m \u001b[32m━━━━━━━━━━━━━━━━━━━━\u001b[0m\u001b[37m\u001b[0m \u001b[1m32s\u001b[0m 333ms/step - accuracy: 0.6405 - loss: 3.1680 - val_accuracy: 0.4721 - val_loss: 3.7566 - learning_rate: 1.0000e-04\nEpoch 3/10\n\u001b[1m90/90\u001b[0m \u001b[32m━━━━━━━━━━━━━━━━━━━━\u001b[0m\u001b[37m\u001b[0m \u001b[1m33s\u001b[0m 335ms/step - accuracy: 0.6763 - loss: 2.9458 - val_accuracy: 0.5127 - val_loss: 3.6751 - learning_rate: 1.0000e-04\nEpoch 4/10\n\u001b[1m90/90\u001b[0m \u001b[32m━━━━━━━━━━━━━━━━━━━━\u001b[0m\u001b[37m\u001b[0m \u001b[1m32s\u001b[0m 333ms/step - accuracy: 0.7250 - loss: 2.7788 - val_accuracy: 0.5305 - val_loss: 3.6868 - learning_rate: 1.0000e-04\nEpoch 5/10\n\u001b[1m90/90\u001b[0m \u001b[32m━━━━━━━━━━━━━━━━━━━━\u001b[0m\u001b[37m\u001b[0m \u001b[1m33s\u001b[0m 337ms/step - accuracy: 0.7692 - loss: 2.5765 - val_accuracy: 0.5711 - val_loss: 3.4201 - learning_rate: 1.0000e-04\nEpoch 6/10\n\u001b[1m90/90\u001b[0m \u001b[32m━━━━━━━━━━━━━━━━━━━━\u001b[0m\u001b[37m\u001b[0m \u001b[1m34s\u001b[0m 348ms/step - accuracy: 0.7549 - loss: 2.5345 - val_accuracy: 0.5685 - val_loss: 3.4117 - learning_rate: 1.0000e-04\nEpoch 7/10\n\u001b[1m90/90\u001b[0m \u001b[32m━━━━━━━━━━━━━━━━━━━━\u001b[0m\u001b[37m\u001b[0m \u001b[1m35s\u001b[0m 354ms/step - accuracy: 0.7639 - loss: 2.4163 - val_accuracy: 0.5660 - val_loss: 3.3138 - learning_rate: 1.0000e-04\nEpoch 8/10\n\u001b[1m90/90\u001b[0m \u001b[32m━━━━━━━━━━━━━━━━━━━━\u001b[0m\u001b[37m\u001b[0m \u001b[1m33s\u001b[0m 335ms/step - accuracy: 0.7907 - loss: 2.2682 - val_accuracy: 0.5736 - val_loss: 3.2405 - learning_rate: 1.0000e-04\nEpoch 9/10\n\u001b[1m90/90\u001b[0m \u001b[32m━━━━━━━━━━━━━━━━━━━━\u001b[0m\u001b[37m\u001b[0m \u001b[1m33s\u001b[0m 337ms/step - accuracy: 0.7914 - loss: 2.2301 - val_accuracy: 0.5964 - val_loss: 3.0843 - learning_rate: 1.0000e-04\nEpoch 10/10\n\u001b[1m90/90\u001b[0m \u001b[32m━━━━━━━━━━━━━━━━━━━━\u001b[0m\u001b[37m\u001b[0m \u001b[1m33s\u001b[0m 337ms/step - accuracy: 0.7947 - loss: 2.1401 - val_accuracy: 0.5964 - val_loss: 3.1497 - learning_rate: 1.0000e-04\n\u001b[1m13/13\u001b[0m \u001b[32m━━━━━━━━━━━━━━━━━━━━\u001b[0m\u001b[37m\u001b[0m \u001b[1m1s\u001b[0m 81ms/step - accuracy: 0.5802 - loss: 3.1243\nTest Accuracy: 0.60\n",
          "output_type": "stream"
        }
      ],
      "execution_count": null
    }
  ]
}